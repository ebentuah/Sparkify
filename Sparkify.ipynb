{
 "cells": [
  {
   "cell_type": "markdown",
   "metadata": {},
   "source": [
    "# Sparkify Project Workspace\n",
    "This workspace contains a tiny subset (128MB) of the full dataset available (12GB). Feel free to use this workspace to build your project, or to explore a smaller subset with Spark before deploying your cluster on the cloud. Instructions for setting up your Spark cluster is included in the last lesson of the Extracurricular Spark Course content.\n",
    "\n",
    "You can follow the steps below to guide your data analysis and model building portion of this project."
   ]
  },
  {
   "cell_type": "code",
   "execution_count": 1,
   "metadata": {},
   "outputs": [],
   "source": [
    "# import libraries\n",
    "from pyspark.sql import SparkSession\n",
    "from pyspark.sql.functions import isnan, count, when, col, desc, udf, col, sort_array, asc, avg\n",
    "from pyspark.sql.functions import sum as Fsum\n",
    "from pyspark.sql.window import Window\n",
    "from pyspark.sql.types import IntegerType\n",
    "from pyspark.ml.feature import VectorAssembler, StandardScaler"
   ]
  },
  {
   "cell_type": "code",
   "execution_count": 2,
   "metadata": {},
   "outputs": [],
   "source": [
    "from pyspark.ml import Pipeline\n",
    "from pyspark.ml.classification import LogisticRegression, DecisionTreeClassifier, RandomForestClassifier, GBTClassifier\n",
    "from pyspark.ml.tuning import TrainValidationSplit, ParamGridBuilder, CrossValidator\n",
    "from pyspark.ml.evaluation import MulticlassClassificationEvaluator"
   ]
  },
  {
   "cell_type": "code",
   "execution_count": 3,
   "metadata": {},
   "outputs": [],
   "source": [
    "import seaborn as sns\n",
    "import matplotlib.pyplot as plt\n",
    "import datetime\n",
    "from time import time"
   ]
  },
  {
   "cell_type": "code",
   "execution_count": 4,
   "metadata": {},
   "outputs": [],
   "source": [
    "# create a Spark session\n",
    "spark = SparkSession \\\n",
    "    .builder \\\n",
    "    .appName(\"Spark Sparkify App\") \\\n",
    "    .getOrCreate()"
   ]
  },
  {
   "cell_type": "markdown",
   "metadata": {},
   "source": [
    "# Load and Clean Dataset\n",
    "In this workspace, the mini-dataset file is `mini_sparkify_event_data.json`. Load and clean the dataset, checking for invalid or missing data - for example, records without userids or sessionids. "
   ]
  },
  {
   "cell_type": "code",
   "execution_count": 5,
   "metadata": {},
   "outputs": [],
   "source": [
    "user_log = spark.read.json(\"mini_sparkify_event_data.json\")\n",
    "\n",
    "user_log.createOrReplaceTempView(\"log_table\")"
   ]
  },
  {
   "cell_type": "code",
   "execution_count": 6,
   "metadata": {},
   "outputs": [
    {
     "name": "stdout",
     "output_type": "stream",
     "text": [
      "+--------------------+---------+---------+------+-------------+--------+---------+-----+--------------------+------+---------------+-------------+---------+--------------------+------+-------------+--------------------+------+\n",
      "|              artist|     auth|firstName|gender|itemInSession|lastName|   length|level|            location|method|           page| registration|sessionId|                song|status|           ts|           userAgent|userId|\n",
      "+--------------------+---------+---------+------+-------------+--------+---------+-----+--------------------+------+---------------+-------------+---------+--------------------+------+-------------+--------------------+------+\n",
      "|      Martha Tilston|Logged In|    Colin|     M|           50| Freeman|277.89016| paid|     Bakersfield, CA|   PUT|       NextSong|1538173362000|       29|           Rockpools|   200|1538352117000|Mozilla/5.0 (Wind...|    30|\n",
      "|    Five Iron Frenzy|Logged In|    Micah|     M|           79|    Long|236.09424| free|Boston-Cambridge-...|   PUT|       NextSong|1538331630000|        8|              Canada|   200|1538352180000|\"Mozilla/5.0 (Win...|     9|\n",
      "|        Adam Lambert|Logged In|    Colin|     M|           51| Freeman| 282.8273| paid|     Bakersfield, CA|   PUT|       NextSong|1538173362000|       29|   Time For Miracles|   200|1538352394000|Mozilla/5.0 (Wind...|    30|\n",
      "|              Enigma|Logged In|    Micah|     M|           80|    Long|262.71302| free|Boston-Cambridge-...|   PUT|       NextSong|1538331630000|        8|Knocking On Forbi...|   200|1538352416000|\"Mozilla/5.0 (Win...|     9|\n",
      "|           Daft Punk|Logged In|    Colin|     M|           52| Freeman|223.60771| paid|     Bakersfield, CA|   PUT|       NextSong|1538173362000|       29|Harder Better Fas...|   200|1538352676000|Mozilla/5.0 (Wind...|    30|\n",
      "|The All-American ...|Logged In|    Micah|     M|           81|    Long|208.29995| free|Boston-Cambridge-...|   PUT|       NextSong|1538331630000|        8|      Don't Leave Me|   200|1538352678000|\"Mozilla/5.0 (Win...|     9|\n",
      "|The Velvet Underg...|Logged In|    Micah|     M|           82|    Long|260.46649| free|Boston-Cambridge-...|   PUT|       NextSong|1538331630000|        8|         Run Run Run|   200|1538352886000|\"Mozilla/5.0 (Win...|     9|\n",
      "|        Starflyer 59|Logged In|    Colin|     M|           53| Freeman|185.44281| paid|     Bakersfield, CA|   PUT|       NextSong|1538173362000|       29|Passengers (Old A...|   200|1538352899000|Mozilla/5.0 (Wind...|    30|\n",
      "|                null|Logged In|    Colin|     M|           54| Freeman|     null| paid|     Bakersfield, CA|   PUT|Add to Playlist|1538173362000|       29|                null|   200|1538352905000|Mozilla/5.0 (Wind...|    30|\n",
      "|            Frumpies|Logged In|    Colin|     M|           55| Freeman|134.47791| paid|     Bakersfield, CA|   PUT|       NextSong|1538173362000|       29|          Fuck Kitty|   200|1538353084000|Mozilla/5.0 (Wind...|    30|\n",
      "+--------------------+---------+---------+------+-------------+--------+---------+-----+--------------------+------+---------------+-------------+---------+--------------------+------+-------------+--------------------+------+\n",
      "\n"
     ]
    }
   ],
   "source": [
    "spark.sql(\n",
    "'''\n",
    "SELECT\n",
    "    *\n",
    "FROM\n",
    "    log_table\n",
    "LIMIT 10\n",
    "'''\n",
    ").show()"
   ]
  },
  {
   "cell_type": "markdown",
   "metadata": {},
   "source": [
    "# Exploratory Data Analysis\n",
    "When you're working with the full dataset, perform EDA by loading a small subset of the data and doing basic manipulations within Spark. In this workspace, you are already provided a small subset of data you can explore.\n",
    "\n",
    "### Define Churn\n",
    "\n",
    "Once you've done some preliminary analysis, create a column `Churn` to use as the label for your model. I suggest using the `Cancellation Confirmation` events to define your churn, which happen for both paid and free users. As a bonus task, you can also look into the `Downgrade` events.\n",
    "\n",
    "### Explore Data\n",
    "Once you've defined churn, perform some exploratory data analysis to observe the behavior for users who stayed vs users who churned. You can start by exploring aggregates on these two groups of users, observing how much of a specific action they experienced per a certain time unit or number of songs played."
   ]
  },
  {
   "cell_type": "code",
   "execution_count": 7,
   "metadata": {},
   "outputs": [
    {
     "name": "stdout",
     "output_type": "stream",
     "text": [
      "+-------------+---------+-------+\n",
      "|     col_name|data_type|comment|\n",
      "+-------------+---------+-------+\n",
      "|       artist|   string|   null|\n",
      "|         auth|   string|   null|\n",
      "|    firstName|   string|   null|\n",
      "|       gender|   string|   null|\n",
      "|itemInSession|   bigint|   null|\n",
      "|     lastName|   string|   null|\n",
      "|       length|   double|   null|\n",
      "|        level|   string|   null|\n",
      "|     location|   string|   null|\n",
      "|       method|   string|   null|\n",
      "|         page|   string|   null|\n",
      "| registration|   bigint|   null|\n",
      "|    sessionId|   bigint|   null|\n",
      "|         song|   string|   null|\n",
      "|       status|   bigint|   null|\n",
      "|           ts|   bigint|   null|\n",
      "|    userAgent|   string|   null|\n",
      "|       userId|   string|   null|\n",
      "+-------------+---------+-------+\n",
      "\n"
     ]
    }
   ],
   "source": [
    "spark.sql(\n",
    "'''\n",
    "describe\n",
    "table\n",
    "log_table\n",
    "'''\n",
    ").show()"
   ]
  },
  {
   "cell_type": "markdown",
   "metadata": {},
   "source": [
    "Total number of users are 226"
   ]
  },
  {
   "cell_type": "code",
   "execution_count": 8,
   "metadata": {},
   "outputs": [
    {
     "name": "stdout",
     "output_type": "stream",
     "text": [
      "+----------------------+\n",
      "|count(DISTINCT userID)|\n",
      "+----------------------+\n",
      "|                   226|\n",
      "+----------------------+\n",
      "\n"
     ]
    }
   ],
   "source": [
    "spark.sql(\n",
    "'''\n",
    "SELECT\n",
    "    COUNT(DISTINCT userID)\n",
    "FROM\n",
    "    log_table\n",
    "'''\n",
    ").show()"
   ]
  },
  {
   "cell_type": "markdown",
   "metadata": {},
   "source": [
    "Out of 226 users, 52 have churned! "
   ]
  },
  {
   "cell_type": "code",
   "execution_count": 9,
   "metadata": {},
   "outputs": [
    {
     "name": "stdout",
     "output_type": "stream",
     "text": [
      "+----------------------+\n",
      "|count(DISTINCT userID)|\n",
      "+----------------------+\n",
      "|                    52|\n",
      "+----------------------+\n",
      "\n"
     ]
    }
   ],
   "source": [
    "spark.sql(\n",
    "'''\n",
    "SELECT\n",
    "    COUNT(DISTINCT userID)\n",
    "FROM\n",
    "    log_table\n",
    "WHERE\n",
    "    page = 'Cancellation Confirmation'\n",
    "'''\n",
    ").show()"
   ]
  },
  {
   "cell_type": "markdown",
   "metadata": {},
   "source": [
    "Creating the churn column and writing it to 'user_data' table."
   ]
  },
  {
   "cell_type": "code",
   "execution_count": 10,
   "metadata": {},
   "outputs": [],
   "source": [
    "spark.sql(\n",
    "'''\n",
    "SELECT\n",
    "    log_table.*,\n",
    "    IF(churn_user_data.userID IS NOT NULL, 1, 0) AS churn\n",
    "FROM\n",
    "    log_table\n",
    "LEFT JOIN\n",
    "    (\n",
    "    SELECT DISTINCT\n",
    "        userID\n",
    "    FROM\n",
    "        log_table\n",
    "    WHERE\n",
    "        page = 'Cancellation Confirmation'\n",
    "        ) AS churn_user_data\n",
    "ON\n",
    "    log_table.userID = churn_user_data.userID\n",
    "'''\n",
    ").createOrReplaceTempView('user_data')"
   ]
  },
  {
   "cell_type": "markdown",
   "metadata": {},
   "source": [
    "Sanity Check: Numbers do seam reasonable"
   ]
  },
  {
   "cell_type": "code",
   "execution_count": 11,
   "metadata": {},
   "outputs": [
    {
     "name": "stdout",
     "output_type": "stream",
     "text": [
      "+-----+----------------------+\n",
      "|churn|count(DISTINCT userID)|\n",
      "+-----+----------------------+\n",
      "|    1|                    52|\n",
      "|    0|                   174|\n",
      "+-----+----------------------+\n",
      "\n"
     ]
    }
   ],
   "source": [
    "spark.sql(\n",
    "'''\n",
    "SELECT\n",
    "    churn,\n",
    "    COUNT(DISTINCT userID)\n",
    "FROM\n",
    "    user_data\n",
    "GROUP BY\n",
    "    1\n",
    "'''\n",
    ").show()"
   ]
  },
  {
   "cell_type": "code",
   "execution_count": 12,
   "metadata": {},
   "outputs": [],
   "source": [
    "churn_level_pd = spark.sql(\n",
    "'''\n",
    "SELECT\n",
    "    churn,\n",
    "    level,\n",
    "    ct/SUM(ct) OVER (PARTITION by churn) as prop   \n",
    "FROM\n",
    "    (\n",
    "    SELECT\n",
    "        churn,\n",
    "        level,\n",
    "        COUNT(level) as ct\n",
    "    FROM\n",
    "        user_data\n",
    "    GROUP BY\n",
    "        1,2\n",
    "    )\n",
    "ORDER BY\n",
    "    1, 2 DESC\n",
    "'''\n",
    "    \n",
    ").toPandas()"
   ]
  },
  {
   "cell_type": "code",
   "execution_count": 13,
   "metadata": {},
   "outputs": [
    {
     "data": {
      "text/plain": [
       "<matplotlib.axes._subplots.AxesSubplot at 0x7fe496a15780>"
      ]
     },
     "execution_count": 13,
     "metadata": {},
     "output_type": "execute_result"
    },
    {
     "data": {
      "image/png": "[encoded data removed]",
      "text/plain": [
       "<matplotlib.figure.Figure at 0x7fe496a1ea58>"
      ]
     },
     "metadata": {
      "needs_background": "light"
     },
     "output_type": "display_data"
    }
   ],
   "source": [
    "sns.barplot(x = \"churn\", y = \"prop\", hue = \"level\", data = churn_level_pd)"
   ]
  },
  {
   "cell_type": "code",
   "execution_count": 14,
   "metadata": {},
   "outputs": [],
   "source": [
    "## Number of ms in a day\n",
    "ms_day = 1000*60*60*24"
   ]
  },
  {
   "cell_type": "code",
   "execution_count": 15,
   "metadata": {},
   "outputs": [],
   "source": [
    "avg_songs_pd = spark.sql(\n",
    "'''\n",
    "SELECT\n",
    "    churn,\n",
    "    userID,\n",
    "    level,\n",
    "    COUNT(song)*1000*60*60*24/(max(ts) - min(ts)) as songs_per_day\n",
    "FROM\n",
    "    user_data\n",
    "GROUP BY\n",
    "    1, 2, 3\n",
    "'''\n",
    "    \n",
    ").toPandas()"
   ]
  },
  {
   "cell_type": "markdown",
   "metadata": {},
   "source": [
    "Comparision on **average songs played per day**:\n",
    "- Users who **churned listed to almost double the songs per day**(which is very counter intuitive)\n",
    "- Both paid and free users listened to average more songs for churned users."
   ]
  },
  {
   "cell_type": "code",
   "execution_count": 18,
   "metadata": {},
   "outputs": [
    {
     "data": {
      "text/plain": [
       "<matplotlib.axes._subplots.AxesSubplot at 0x7fe48ff84d68>"
      ]
     },
     "execution_count": 18,
     "metadata": {},
     "output_type": "execute_result"
    },
    {
     "data": {
      "image/png": "[encoded data removed]",
      "text/plain": [
       "<matplotlib.figure.Figure at 0x7fe494068390>"
      ]
     },
     "metadata": {
      "needs_background": "light"
     },
     "output_type": "display_data"
    }
   ],
   "source": [
    "sns.barplot(x = \"churn\", y = \"songs_per_day\", data = avg_songs_pd)"
   ]
  },
  {
   "cell_type": "code",
   "execution_count": 16,
   "metadata": {},
   "outputs": [
    {
     "data": {
      "text/plain": [
       "<matplotlib.axes._subplots.AxesSubplot at 0x7fe49407f6d8>"
      ]
     },
     "execution_count": 16,
     "metadata": {},
     "output_type": "execute_result"
    },
    {
     "data": {
      "image/png": "[encoded data removed]",
      "text/plain": [
       "<matplotlib.figure.Figure at 0x7fe49412c7f0>"
      ]
     },
     "metadata": {
      "needs_background": "light"
     },
     "output_type": "display_data"
    }
   ],
   "source": [
    "sns.barplot(x = \"churn\", y = \"songs_per_day\", hue = 'level', data = avg_songs_pd)"
   ]
  },
  {
   "cell_type": "code",
   "execution_count": 18,
   "metadata": {},
   "outputs": [],
   "source": [
    "spark.sql(\n",
    "'''\n",
    "SELECT\n",
    "    userId,\n",
    "    (MAX(ts) - MIN(ts)) / (24 * 60 * 60 * 1000) AS days\n",
    "FROM\n",
    "    user_data\n",
    "GROUP BY \n",
    "    1\n",
    "'''\n",
    ").createOrReplaceTempView('user_active_days')"
   ]
  },
  {
   "cell_type": "code",
   "execution_count": 19,
   "metadata": {},
   "outputs": [],
   "source": [
    "spark.sql(\n",
    "'''\n",
    "SELECT\n",
    "    churn,\n",
    "    page,\n",
    "    SUM(ct_page_per_day) as ct_page\n",
    "FROM\n",
    "    (\n",
    "    SELECT\n",
    "        page_data.userId,\n",
    "        page_data.churn,\n",
    "        page_data.page,\n",
    "        page_data.ct_page/user_active_days.days as ct_page_per_day\n",
    "    FROM\n",
    "        (\n",
    "            (\n",
    "            SELECT\n",
    "                userId,\n",
    "                churn,\n",
    "                page,\n",
    "                count(*) as ct_page\n",
    "            FROM\n",
    "                user_data\n",
    "            GROUP BY\n",
    "                1, 2,3\n",
    "            ) as page_data\n",
    "            INNER JOIN\n",
    "                user_active_days\n",
    "            ON\n",
    "                user_active_days.userId = page_data.userId\n",
    "        )\n",
    "    )\n",
    "GROUP BY\n",
    "    1, 2\n",
    "'''\n",
    "\n",
    "\n",
    ").createOrReplaceTempView('page_view_per_day')"
   ]
  },
  {
   "cell_type": "markdown",
   "metadata": {},
   "source": [
    "## Identify 'interesting' pages affecting Churn  "
   ]
  },
  {
   "cell_type": "code",
   "execution_count": 21,
   "metadata": {},
   "outputs": [
    {
     "name": "stdout",
     "output_type": "stream",
     "text": [
      "+--------------------+\n",
      "|count(DISTINCT page)|\n",
      "+--------------------+\n",
      "|                  22|\n",
      "+--------------------+\n",
      "\n"
     ]
    }
   ],
   "source": [
    "spark.sql(\n",
    "\"\"\"\n",
    "SELECT\n",
    "    COUNT(DISTINCT page)\n",
    "FROM\n",
    "    log_table\n",
    "\"\"\"\n",
    ").show()"
   ]
  },
  {
   "cell_type": "code",
   "execution_count": 20,
   "metadata": {},
   "outputs": [
    {
     "name": "stdout",
     "output_type": "stream",
     "text": [
      "+-----------+--------------------+--------------------+------------------+\n",
      "|       page|        prop_churned|    prop_not_churned|     ratio_churned|\n",
      "+-----------+--------------------+--------------------+------------------+\n",
      "|    Upgrade|0.001064780394279...|0.002175741662743413|0.4893873259462929|\n",
      "|       Help|0.002514755114429223|0.004807227745889...|0.5231196122503916|\n",
      "| Add Friend| 0.01849645013788031|0.012328938780059235|1.5002467339521854|\n",
      "|Roll Advert| 0.06634414245506617|0.040053908404002594|1.6563712531093817|\n",
      "|Thumbs Down| 0.01680986940756937|0.006520825210677021|2.5778745579693423|\n",
      "+-----------+--------------------+--------------------+------------------+\n",
      "\n"
     ]
    }
   ],
   "source": [
    "spark.sql(\n",
    "'''\n",
    "SELECT\n",
    "    *,\n",
    "    prop_churned/prop_not_churned as ratio_churned\n",
    "FROM\n",
    "    (\n",
    "    SELECT\n",
    "        page,\n",
    "        SUM(IF(churn = 1, prop, 0)) as prop_churned,\n",
    "        SUM(IF(churn = 0, prop, 0)) as prop_not_churned\n",
    "    FROM\n",
    "        (\n",
    "        SELECT\n",
    "            churn,\n",
    "            page,\n",
    "            ct_page,\n",
    "            ct_page/SUM(ct_page) OVER (PARTITION BY churn) as prop\n",
    "        FROM\n",
    "            page_view_per_day\n",
    "        )\n",
    "    GROUP BY\n",
    "        1\n",
    "    HAVING\n",
    "        (prop_churned != 0\n",
    "         AND prop_not_churned != 0\n",
    "         AND prop_churned > .001) \n",
    "     )\n",
    "WHERE\n",
    "   prop_churned/prop_not_churned > 1.5\n",
    "   OR\n",
    "   prop_churned/prop_not_churned < .66\n",
    "ORDER BY\n",
    "    ratio_churned\n",
    "'''\n",
    ").show()"
   ]
  },
  {
   "cell_type": "markdown",
   "metadata": {},
   "source": [
    "So the churned out users\n",
    "- Visited 'Upgrade' and 'Help' less\n",
    "- 'Thumbs Down' a lot more (Which means they were disatisfied)\n",
    "- 'Add friends' and 'Roll Advt' more"
   ]
  },
  {
   "cell_type": "markdown",
   "metadata": {},
   "source": [
    "# Feature Engineering\n",
    "Once you've familiarized yourself with the data, build out the features you find promising to train your model on. To work with the full dataset, you can follow the following steps.\n",
    "- Write a script to extract the necessary features from the smaller subset of data\n",
    "- Ensure that your script is scalable, using the best practices discussed in Lesson 3\n",
    "- Try your script on the full data set, debugging your script if necessary\n",
    "\n",
    "If you are working in the classroom workspace, you can just extract features based on the small subset of data contained here. Be sure to transfer over this work to the larger dataset when you work on your Spark cluster."
   ]
  },
  {
   "cell_type": "code",
   "execution_count": 21,
   "metadata": {},
   "outputs": [],
   "source": [
    "spark.sql(\n",
    "'''\n",
    "SELECT\n",
    "    page_data.userId,\n",
    "    page_data.churn,\n",
    "    page_data.page,\n",
    "    page_data.ct_page/user_active_days.days as ct_page_per_day\n",
    "FROM\n",
    "    (\n",
    "    (\n",
    "    SELECT\n",
    "        userId,\n",
    "        churn,\n",
    "        page,\n",
    "        count(*) as ct_page\n",
    "    FROM\n",
    "        user_data\n",
    "    GROUP BY\n",
    "        1, 2,3\n",
    "    ) as page_data\n",
    "    INNER JOIN\n",
    "        user_active_days\n",
    "    ON\n",
    "        user_active_days.userId = page_data.userId\n",
    "    )\n",
    "''').createOrReplaceTempView('user_data_features')"
   ]
  },
  {
   "cell_type": "code",
   "execution_count": 22,
   "metadata": {},
   "outputs": [],
   "source": [
    "spark.sql('''\n",
    "SELECT\n",
    "    userId,\n",
    "    churn,\n",
    "    SUM(IF(page = 'Upgrade', ct_page_per_day, 0)) AS ct_Upgrade,\n",
    "    SUM(IF(page = 'Help', ct_page_per_day, 0)) AS ct_Help,\n",
    "    SUM(IF(page = 'Add Friend', ct_page_per_day, 0)) AS ct_Add_Friend,\n",
    "    SUM(IF(page = 'Roll Advert', ct_page_per_day, 0)) AS ct_Roll_Advert,\n",
    "    SUM(IF(page = 'Thumbs Down', ct_page_per_day, 0)) AS ct_Thumbs_Down\n",
    "FROM\n",
    "    user_data_features\n",
    "GROUP BY\n",
    "    1, 2\n",
    "''').createOrReplaceTempView('user_data_features')"
   ]
  },
  {
   "cell_type": "code",
   "execution_count": 23,
   "metadata": {},
   "outputs": [],
   "source": [
    "user_data_df = spark.sql(\"\"\"\n",
    "SELECT\n",
    "    user_data_features.*,\n",
    "    avg_songs.songs_per_day\n",
    "FROM\n",
    "    user_data_features\n",
    "LEFT JOIN\n",
    "(\n",
    "SELECT\n",
    "    userID,\n",
    "    COUNT(song)*1000*60*60*24/(max(ts) - min(ts)) as songs_per_day\n",
    "FROM\n",
    "    user_data\n",
    "GROUP BY\n",
    "    1) AS avg_songs\n",
    "ON \n",
    "    avg_songs.userId = user_data_features.userId\n",
    "\n",
    "\n",
    "\"\"\")"
   ]
  },
  {
   "cell_type": "markdown",
   "metadata": {},
   "source": [
    "**user_data_df** will be used for ML Modeling"
   ]
  },
  {
   "cell_type": "markdown",
   "metadata": {},
   "source": [
    "# Modeling\n",
    "Split the full dataset into train, test, and validation sets. Test out several of the machine learning methods you learned. Evaluate the accuracy of the various models, tuning parameters as necessary. Determine your winning model based on test accuracy and report results on the validation set. Since the churned users are a fairly small subset, I suggest using F1 score as the metric to optimize."
   ]
  },
  {
   "cell_type": "code",
   "execution_count": 24,
   "metadata": {},
   "outputs": [
    {
     "name": "stdout",
     "output_type": "stream",
     "text": [
      "+------+-----+--------------------+--------------------+--------------------+--------------------+--------------------+------------------+\n",
      "|userId|churn|          ct_Upgrade|             ct_Help|       ct_Add_Friend|      ct_Roll_Advert|      ct_Thumbs_Down|     songs_per_day|\n",
      "+------+-----+--------------------+--------------------+--------------------+--------------------+--------------------+------------------+\n",
      "|100010|    0| 0.04523065277150301| 0.04523065277150301| 0.09046130554300602|  1.1759969720590784| 0.11307663192875753| 6.219214756081664|\n",
      "|200002|    0| 0.04395913021976513| 0.04395913021976513| 0.08791826043953026| 0.15385695576917793| 0.13187739065929538| 8.506091697524552|\n",
      "|   125|    1|                 0.0|                 0.0|                 0.0|   48.70349492671927|                 0.0|389.62795941375424|\n",
      "|   124|    0|                 0.0| 0.38335285593247803|  1.2333961451740598| 0.06667006190130052|  0.6833681344883304| 67.98679562385121|\n",
      "|    51|    1|                 0.0|  0.7604852788005927|  1.7744656505347163|                 0.0|   1.330849237901037|133.78203529567094|\n",
      "|     7|    0| 0.03938244317920243|0.019691221589601213|0.019691221589601213|  0.3150595454336194|0.019691221589601213|2.9536832384401817|\n",
      "|    15|    0|                 0.0| 0.14605687639028206|   0.565970396012343|0.018257109548785257|  0.2555995336829936| 34.94410767637498|\n",
      "|    54|    1|0.023366015104614304| 0.39722225677844314|  0.7710784984522719|  1.0982027099168723|  0.6776144380338147| 66.38284891220923|\n",
      "|   155|    0| 0.07743583423891733|   0.348461254075128|  0.4258970883140453|  0.3097433369556693|   0.116153751358376|31.748692037956108|\n",
      "|100014|    1|                 0.0| 0.04849147456456592| 0.14547442369369776| 0.04849147456456592| 0.07273721184684888| 6.231154481546721|\n",
      "+------+-----+--------------------+--------------------+--------------------+--------------------+--------------------+------------------+\n",
      "only showing top 10 rows\n",
      "\n"
     ]
    }
   ],
   "source": [
    "user_data_df.show(10)"
   ]
  },
  {
   "cell_type": "code",
   "execution_count": 25,
   "metadata": {},
   "outputs": [],
   "source": [
    "columns_to_drop = ['userId', 'churn']"
   ]
  },
  {
   "cell_type": "code",
   "execution_count": 26,
   "metadata": {},
   "outputs": [],
   "source": [
    "user_columns = user_data_df.columns\n",
    "feature_columns = [x for x in user_columns if x not in columns_to_drop]"
   ]
  },
  {
   "cell_type": "markdown",
   "metadata": {},
   "source": [
    "## Step1: Create Vector Assembler for Features\n"
   ]
  },
  {
   "cell_type": "code",
   "execution_count": 27,
   "metadata": {},
   "outputs": [],
   "source": [
    "assembler = VectorAssembler(inputCols=feature_columns,outputCol=\"features\")"
   ]
  },
  {
   "cell_type": "code",
   "execution_count": 28,
   "metadata": {},
   "outputs": [],
   "source": [
    "output_assembler = assembler.transform(user_data_df)"
   ]
  },
  {
   "cell_type": "code",
   "execution_count": 29,
   "metadata": {},
   "outputs": [
    {
     "name": "stdout",
     "output_type": "stream",
     "text": [
      "+------+-----+--------------------+--------------------+--------------------+--------------------+--------------------+------------------+--------------------+\n",
      "|userId|churn|          ct_Upgrade|             ct_Help|       ct_Add_Friend|      ct_Roll_Advert|      ct_Thumbs_Down|     songs_per_day|            features|\n",
      "+------+-----+--------------------+--------------------+--------------------+--------------------+--------------------+------------------+--------------------+\n",
      "|100010|    0| 0.04523065277150301| 0.04523065277150301| 0.09046130554300602|  1.1759969720590784| 0.11307663192875753| 6.219214756081664|[0.04523065277150...|\n",
      "|200002|    0| 0.04395913021976513| 0.04395913021976513| 0.08791826043953026| 0.15385695576917793| 0.13187739065929538| 8.506091697524552|[0.04395913021976...|\n",
      "|   125|    1|                 0.0|                 0.0|                 0.0|   48.70349492671927|                 0.0|389.62795941375424|(6,[3,5],[48.7034...|\n",
      "|   124|    0|                 0.0| 0.38335285593247803|  1.2333961451740598| 0.06667006190130052|  0.6833681344883304| 67.98679562385121|[0.0,0.3833528559...|\n",
      "|    51|    1|                 0.0|  0.7604852788005927|  1.7744656505347163|                 0.0|   1.330849237901037|133.78203529567094|[0.0,0.7604852788...|\n",
      "|     7|    0| 0.03938244317920243|0.019691221589601213|0.019691221589601213|  0.3150595454336194|0.019691221589601213|2.9536832384401817|[0.03938244317920...|\n",
      "|    15|    0|                 0.0| 0.14605687639028206|   0.565970396012343|0.018257109548785257|  0.2555995336829936| 34.94410767637498|[0.0,0.1460568763...|\n",
      "|    54|    1|0.023366015104614304| 0.39722225677844314|  0.7710784984522719|  1.0982027099168723|  0.6776144380338147| 66.38284891220923|[0.02336601510461...|\n",
      "|   155|    0| 0.07743583423891733|   0.348461254075128|  0.4258970883140453|  0.3097433369556693|   0.116153751358376|31.748692037956108|[0.07743583423891...|\n",
      "|100014|    1|                 0.0| 0.04849147456456592| 0.14547442369369776| 0.04849147456456592| 0.07273721184684888| 6.231154481546721|[0.0,0.0484914745...|\n",
      "+------+-----+--------------------+--------------------+--------------------+--------------------+--------------------+------------------+--------------------+\n",
      "only showing top 10 rows\n",
      "\n"
     ]
    }
   ],
   "source": [
    "output_assembler.show(10)"
   ]
  },
  {
   "cell_type": "markdown",
   "metadata": {},
   "source": [
    "## Step 2: Split Data and Create Scaler and Evaluator "
   ]
  },
  {
   "cell_type": "code",
   "execution_count": 30,
   "metadata": {},
   "outputs": [],
   "source": [
    "train, test = output_assembler.randomSplit([0.8, 0.2], seed=87)\n",
    "\n",
    "scaler = StandardScaler(inputCol=\"features\", outputCol=\"scaledFeatures\")\n",
    "\n",
    "evaluator = MulticlassClassificationEvaluator(\n",
    "    predictionCol='predicted_churn',\n",
    "    labelCol='churn',\n",
    "    metricName='f1'\n",
    ")\n"
   ]
  },
  {
   "cell_type": "markdown",
   "metadata": {},
   "source": [
    "## Step 3: Define ML Functions\n",
    "\n",
    "Functions to \n",
    "- Train a Model\n",
    "- Evaluate the accuracy and f1 on test data\n",
    "- Explain features of a model\n"
   ]
  },
  {
   "cell_type": "code",
   "execution_count": 31,
   "metadata": {},
   "outputs": [],
   "source": [
    "def train_model(train, scaler, evaluator, model_type = \"lr\"):\n",
    "    \"\"\"Train and Test the models.\n",
    "    \n",
    "    Args:\n",
    "        train: Training dataset for training the model.\n",
    "        scaler: Scaler used to normalize the data\n",
    "        evaluator: for tuning hyperprameters\n",
    "        model_type: Type of model. Permissible values\n",
    "                    lr -> Logistic Regression\n",
    "                    dt -> Decision Trees\n",
    "                    rf -> Random Forest\n",
    "    Returns:\n",
    "        model_cls: Trained Classifier Model.\n",
    "    \"\"\"\n",
    "    \n",
    "    \n",
    "    if model_type == \"lr\":\n",
    "        cls = LogisticRegression(featuresCol=\"scaledFeatures\", labelCol = \"churn\", \n",
    "                  predictionCol = \"predicted_churn\")\n",
    "        param_grid_cls = ParamGridBuilder().addGrid(cls.maxIter, [50, 100]) \\\n",
    "            .addGrid(cls.threshold, [0.4, 0.5]) \\\n",
    "            .build()\n",
    "    elif model_type == \"dt\":\n",
    "        cls = DecisionTreeClassifier(featuresCol=\"scaledFeatures\", labelCol = \"churn\", \n",
    "                  predictionCol = \"predicted_churn\")\n",
    "        param_grid_cls = ParamGridBuilder().addGrid(cls.maxDepth, [3, 5, 10]) \\\n",
    "            .addGrid(cls.maxBins, [20, 32]) \\\n",
    "            .build()\n",
    "    \n",
    "    elif model_type == \"rf\":\n",
    "        cls = RandomForestClassifier(\n",
    "            featuresCol=\"scaledFeatures\", labelCol = \"churn\", \n",
    "            predictionCol = \"predicted_churn\", featureSubsetStrategy=\"auto\",\n",
    "            impurity='gini')\n",
    "\n",
    "        param_grid_cls = ParamGridBuilder().addGrid(cls.numTrees, [3, 5, 10]) \\\n",
    "            .addGrid(cls.maxDepth, [5, 10, 20]) \\\n",
    "            .build()\n",
    "\n",
    "        \n",
    "    else:\n",
    "        return \"Please enter a valid model\"\n",
    "    \n",
    "    pipeline = Pipeline(stages = [scaler, cls])\n",
    "\n",
    "    tvs = TrainValidationSplit(estimator=pipeline,\n",
    "                               estimatorParamMaps=param_grid_cls,\n",
    "                               evaluator=evaluator,\n",
    "                               trainRatio=0.8)\n",
    "\n",
    "    start = time()\n",
    "    model_cls = tvs.fit(train)  ## trying crossvalidator\n",
    "    end = time()\n",
    "    print('The {} training process took {:.1f} mins'.format(\n",
    "        model_type, (end - start)/60))\n",
    "          \n",
    "    return model_cls"
   ]
  },
  {
   "cell_type": "code",
   "execution_count": 32,
   "metadata": {},
   "outputs": [],
   "source": [
    "def test_model(test, model_cls, evaluator):\n",
    "    \"\"\"Evaluates the model on the test data.\n",
    "    \n",
    "    Args:\n",
    "        test: test dataset\n",
    "        model_cls: Classifier model to be tested\n",
    "        evaluator: Evaluator for calculating evaluation metrics\n",
    "    \"\"\"\n",
    "    \n",
    "    results_cls = model_cls.transform(test)\n",
    "      \n",
    "    print(\"F1 score: {:.2f}, Accuracy: {:.2f}\".format(\n",
    "        evaluator.evaluate(results_cls, {evaluator.metricName:\"f1\"}),\n",
    "        evaluator.evaluate(results_cls, {evaluator.metricName:\"accuracy\"})\n",
    "    ))"
   ]
  },
  {
   "cell_type": "code",
   "execution_count": 33,
   "metadata": {},
   "outputs": [],
   "source": [
    "def explain_model(model_cls, model_type, feature_list = feature_columns):\n",
    "    \"\"\"Explain the model. \n",
    "    \n",
    "    Args:\n",
    "        model_cls: Classifier Model\n",
    "        model_type: Type of model\n",
    "        feature_list: Input feature list\n",
    "    \"\"\"\n",
    "\n",
    "    bestPipeline = model_cls.bestModel\n",
    "    model_explanation = {}\n",
    "    \n",
    "    if model_type == 'lr':\n",
    "        for i in range(len(bestPipeline.stages[1].coefficients)):\n",
    "            model_explanation[\n",
    "                feature_columns[i]] = bestPipeline.stages[1].coefficients[i]*100\n",
    "            \n",
    "        print('Best parameters: maxIter:{}, Threshold:{} \\n'.format(\n",
    "            bestPipeline.stages[1].getOrDefault('maxIter'),\n",
    "            bestPipeline.stages[1].getOrDefault('threshold')))\n",
    "        \n",
    "\n",
    "    elif model_type == 'rf':\n",
    "        for i in range(len(bestPipeline.stages[1].featureImportances)):\n",
    "            model_explanation[\n",
    "                feature_columns[i]] = bestPipeline.stages[1].featureImportances[i]*100\n",
    "            \n",
    "        print('Best parameters: maxDepth:{}, numTrees:{} \\n'.format(\n",
    "            bestPipeline.stages[1].getOrDefault('maxDepth'),\n",
    "            bestPipeline.stages[1].getOrDefault('numTrees')))\n",
    "    \n",
    "    elif model_type == 'dt':\n",
    "        for i in range(len(bestPipeline.stages[1].featureImportances)):            \n",
    "            model_explanation[\n",
    "                feature_columns[i]] = bestPipeline.stages[1].featureImportances[i]*100\n",
    "            \n",
    "        print('Best parameters: maxDepth:{}, maxBins:{} \\n'.format(\n",
    "            bestPipeline.stages[1].getOrDefault('maxDepth'),\n",
    "            bestPipeline.stages[1].getOrDefault('maxBins')))\n",
    "        \n",
    "    else:\n",
    "        return print('Please provide correct model type')\n",
    "    \n",
    "    ## Sort the model_explanation dict by feature importance in descending order\n",
    "    model_explanation_sorted = dict(\n",
    "        sorted(\n",
    "            model_explanation.items(),\n",
    "            key =  lambda x: x[1],\n",
    "            reverse=True)\n",
    "    )\n",
    "    \n",
    "    fig_dims = (10,5)\n",
    "    plt.figure(figsize = fig_dims)\n",
    "    ## Plot feature importance\n",
    "    ax = sns.barplot(\n",
    "        x = list(model_explanation_sorted.keys()),\n",
    "        y = list(model_explanation_sorted.values())\n",
    "    )\n",
    "    ax.set(xlabel = \"Feature\", ylabel = \"Importance\")\n",
    "    print ('Explaining the importance of features for {}'.format(\n",
    "        model_type))\n",
    "    plt.show()"
   ]
  },
  {
   "cell_type": "markdown",
   "metadata": {},
   "source": [
    "## Step 4: Run the training, testing and feature evaluation. \n",
    "The steps would be run for \n",
    "- Logistic Regression\n",
    "- Decision Trees\n",
    "- Random Forest"
   ]
  },
  {
   "cell_type": "code",
   "execution_count": 34,
   "metadata": {},
   "outputs": [
    {
     "name": "stdout",
     "output_type": "stream",
     "text": [
      "The lr training process took 5.2 mins\n",
      "F1 score: 0.6449, Accuracy: 0.6585\n"
     ]
    }
   ],
   "source": [
    "model_lr = train_model(train, scaler, evaluator, model_type = \"lr\")\n",
    "test_model(test, model_lr, evaluator)"
   ]
  },
  {
   "cell_type": "code",
   "execution_count": 35,
   "metadata": {},
   "outputs": [
    {
     "name": "stdout",
     "output_type": "stream",
     "text": [
      "The dt training process took 4.1 mins\n",
      "F1 score: 0.7157, Accuracy: 0.7073\n"
     ]
    }
   ],
   "source": [
    "model_dt = train_model(train, scaler, evaluator, model_type = \"dt\")\n",
    "test_model(test, model_dt, evaluator)"
   ]
  },
  {
   "cell_type": "code",
   "execution_count": 36,
   "metadata": {},
   "outputs": [
    {
     "name": "stdout",
     "output_type": "stream",
     "text": [
      "The rf training process took 6.8 mins\n",
      "F1 score: 0.8478, Accuracy: 0.8537\n"
     ]
    }
   ],
   "source": [
    "model_rf = train_model(train, scaler, evaluator, model_type = \"rf\")\n",
    "test_model(test, model_rf, evaluator)"
   ]
  },
  {
   "cell_type": "code",
   "execution_count": 39,
   "metadata": {},
   "outputs": [
    {
     "name": "stdout",
     "output_type": "stream",
     "text": [
      "Best parameters: maxIter:50, Threshold:0.4 \n",
      "\n",
      "Explaining the importance of features for lr\n"
     ]
    },
    {
     "data": {
      "image/png": "[encoded data removed]",
      "text/plain": [
       "<matplotlib.figure.Figure at 0x7f518c25bfd0>"
      ]
     },
     "metadata": {
      "needs_background": "light"
     },
     "output_type": "display_data"
    }
   ],
   "source": [
    "explain_model(model_lr, 'lr')"
   ]
  },
  {
   "cell_type": "code",
   "execution_count": 40,
   "metadata": {},
   "outputs": [
    {
     "name": "stdout",
     "output_type": "stream",
     "text": [
      "Best parameters: maxDepth:3, maxBins:20 \n",
      "\n",
      "Explaining the importance of features for dt\n"
     ]
    },
    {
     "data": {
      "image/png": "[encoded data removed]",
      "text/plain": [
       "<matplotlib.figure.Figure at 0x7f518c27ec18>"
      ]
     },
     "metadata": {
      "needs_background": "light"
     },
     "output_type": "display_data"
    }
   ],
   "source": [
    "explain_model(model_dt,'dt')"
   ]
  },
  {
   "cell_type": "code",
   "execution_count": 41,
   "metadata": {},
   "outputs": [
    {
     "name": "stdout",
     "output_type": "stream",
     "text": [
      "Best parameters: maxDepth:5, numTrees:5 \n",
      "\n",
      "Explaining the importance of features for rf\n"
     ]
    },
    {
     "data": {
      "image/png": "[encoded data removed]",
      "text/plain": [
       "<matplotlib.figure.Figure at 0x7f518c1c5e80>"
      ]
     },
     "metadata": {
      "needs_background": "light"
     },
     "output_type": "display_data"
    }
   ],
   "source": [
    "explain_model(model_rf, 'rf')"
   ]
  },
  {
   "cell_type": "markdown",
   "metadata": {},
   "source": [
    "## Step 5: Conclusions\n",
    "\n",
    "Discussion on \n",
    "- Which model was the best?\n",
    "- Explanation of the best model"
   ]
  },
  {
   "cell_type": "markdown",
   "metadata": {},
   "source": [
    "### Which Model is the best?\n",
    "\n",
    "The Random Forrest has the best F1 and Accuracy Score\n",
    "\n",
    "Random Forrest has the highest F1 score, followed by Decision Tree and Logistic Regression "
   ]
  },
  {
   "cell_type": "markdown",
   "metadata": {},
   "source": [
    "### Explanation of the Model\n",
    "Top factors:\n",
    "- Users who click on the **Upgrade More** more, churn more. \n",
    "- Same is true for user who click on **Thumbs Down** and **Help**\n",
    "They are probably dissatisfied and trying to upgrade. \n",
    "\n",
    "\n",
    "Model can be further improved if we can use more data. "
   ]
  },
  {
   "cell_type": "markdown",
   "metadata": {},
   "source": [
    "# Final Steps\n",
    "Clean up your code, adding comments and renaming variables to make the code easier to read and maintain. Refer to the Spark Project Overvi\n",
    "ew page and Data Scientist Capstone Project Rubric to make sure you are including all components of the capstone project and meet all expectations. Remember, this includes thorough documentation in a README file in a Github repository, as well as a web app or blog post."
   ]
  },
  {
   "cell_type": "code",
   "execution_count": null,
   "metadata": {},
   "outputs": [],
   "source": []
  }
 ],
 "metadata": {
  "kernelspec": {
   "display_name": "Python 3",
   "language": "python",
   "name": "python3"
  },
  "language_info": {
   "codemirror_mode": {
    "name": "ipython",
    "version": 3
   },
   "file_extension": ".py",
   "mimetype": "text/x-python",
   "name": "python",
   "nbconvert_exporter": "python",
   "pygments_lexer": "ipython3",
   "version": "3.6.3"
  }
 },
 "nbformat": 4,
 "nbformat_minor": 2
}
